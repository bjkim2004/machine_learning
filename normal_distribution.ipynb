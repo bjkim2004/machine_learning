{
 "cells": [
  {
   "cell_type": "code",
   "execution_count": 1,
   "metadata": {},
   "outputs": [],
   "source": [
    "import numpy as np\n",
    "from scipy import stats"
   ]
  },
  {
   "cell_type": "code",
   "execution_count": 4,
   "metadata": {},
   "outputs": [
    {
     "name": "stdout",
     "output_type": "stream",
     "text": [
      "z-score : 1.4\n",
      "학생이 75점 이상의 점수일 확률 8.12%\n"
     ]
    }
   ],
   "source": [
    "x_bar, mu, sigma = 75, 56, 13.6\n",
    "\n",
    "z = (x - mu) / sigma\n",
    "print('z-score :', np.round(z, 2))\n",
    "\n",
    "p_value = 1 - stats.norm.cdf(z)\n",
    "\n",
    "print('학생이 {}점 이상의 점수일 확률 {}%'.format(x_bar, np.round(p_value * 100, 2)))"
   ]
  },
  {
   "cell_type": "code",
   "execution_count": null,
   "metadata": {},
   "outputs": [],
   "source": []
  }
 ],
 "metadata": {
  "kernelspec": {
   "display_name": "Python 3",
   "language": "python",
   "name": "python3"
  },
  "language_info": {
   "codemirror_mode": {
    "name": "ipython",
    "version": 3
   },
   "file_extension": ".py",
   "mimetype": "text/x-python",
   "name": "python",
   "nbconvert_exporter": "python",
   "pygments_lexer": "ipython3",
   "version": "3.7.3"
  }
 },
 "nbformat": 4,
 "nbformat_minor": 4
}
