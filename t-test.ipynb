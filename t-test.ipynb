{
 "cells": [
  {
   "cell_type": "code",
   "execution_count": 1,
   "metadata": {},
   "outputs": [],
   "source": [
    "import numpy as np\n",
    "from scipy import stats"
   ]
  },
  {
   "cell_type": "code",
   "execution_count": 6,
   "metadata": {},
   "outputs": [
    {
     "name": "stdout",
     "output_type": "stream",
     "text": [
      "검정통계량 : -3.38\n",
      "임계값 : -1.729\n",
      "p-value : 0.0016\n"
     ]
    }
   ],
   "source": [
    "x_bar, mu, s, n = 196, 200, 5.3, 20\n",
    "t_sample = (x_bar - mu) / (s / np.sqrt(float(n)))\n",
    "print('검정통계량 :', np.round(t_sample, 2))\n",
    "\n",
    "alpha = 0.05\n",
    "t_alpha = stats.t.ppf(alpha, n-1)\n",
    "print('임계값 :', np.round(t_alpha, 3))\n",
    "\n",
    "p_value = stats.t.sf(np.abs(t_sample), n-1)\n",
    "print('p-value :',np.round(p_value, 4))"
   ]
  }
 ],
 "metadata": {
  "kernelspec": {
   "display_name": "Python 3",
   "language": "python",
   "name": "python3"
  },
  "language_info": {
   "codemirror_mode": {
    "name": "ipython",
    "version": 3
   },
   "file_extension": ".py",
   "mimetype": "text/x-python",
   "name": "python",
   "nbconvert_exporter": "python",
   "pygments_lexer": "ipython3",
   "version": "3.7.3"
  }
 },
 "nbformat": 4,
 "nbformat_minor": 4
}
