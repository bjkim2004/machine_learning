{
 "cells": [
  {
   "cell_type": "code",
   "execution_count": 61,
   "metadata": {},
   "outputs": [],
   "source": [
    "import numpy as np\n",
    "import pandas as pd\n",
    "from scipy import stats"
   ]
  },
  {
   "cell_type": "code",
   "execution_count": 62,
   "metadata": {},
   "outputs": [],
   "source": [
    "np.random.seed(0)"
   ]
  },
  {
   "cell_type": "code",
   "execution_count": 66,
   "metadata": {},
   "outputs": [
    {
     "data": {
      "text/plain": [
       "array([[2.6, 7.7, 4.6],\n",
       "       [5.7, 0.2, 6.2],\n",
       "       [6.1, 6.2, 9.4],\n",
       "       [6.8, 3.6, 4.4],\n",
       "       [7. , 0.6, 6.7],\n",
       "       [6.7, 2.1, 1.3],\n",
       "       [3.2, 3.6, 5.7],\n",
       "       [4.4, 9.9, 1. ],\n",
       "       [2.1, 1.6, 6.5],\n",
       "       [2.5, 4.7, 2.4]])"
      ]
     },
     "execution_count": 66,
     "metadata": {},
     "output_type": "execute_result"
    }
   ],
   "source": [
    "data = (np.random.rand(30).round(2) * 10).reshape(-1, 3)\n",
    "data"
   ]
  },
  {
   "cell_type": "code",
   "execution_count": 67,
   "metadata": {},
   "outputs": [
    {
     "name": "stdout",
     "output_type": "stream",
     "text": [
      "     A    B    C\n",
      "0  2.6  7.7  4.6\n",
      "1  5.7  0.2  6.2\n",
      "2  6.1  6.2  9.4\n",
      "3  6.8  3.6  4.4\n",
      "4  7.0  0.6  6.7\n",
      "5  6.7  2.1  1.3\n",
      "6  3.2  3.6  5.7\n",
      "7  4.4  9.9  1.0\n",
      "8  2.1  1.6  6.5\n",
      "9  2.5  4.7  2.4\n"
     ]
    }
   ],
   "source": [
    "df = pd.DataFrame(data, columns=['A', 'B', 'C'])\n",
    "print(df)"
   ]
  },
  {
   "cell_type": "code",
   "execution_count": 65,
   "metadata": {},
   "outputs": [
    {
     "name": "stdout",
     "output_type": "stream",
     "text": [
      "통계량 : 0.34, p-value : 0.713\n"
     ]
    }
   ],
   "source": [
    "one_way_anova = stats.f_oneway(df.A, df.B, df.C)\n",
    "print('통계량 : {}, p-value : {}'.format(np.round(one_way_anova[0], 2), \n",
    "    np.round(one_way_anova[1], 3)))"
   ]
  },
  {
   "cell_type": "code",
   "execution_count": null,
   "metadata": {},
   "outputs": [],
   "source": []
  },
  {
   "cell_type": "code",
   "execution_count": null,
   "metadata": {},
   "outputs": [],
   "source": []
  }
 ],
 "metadata": {
  "kernelspec": {
   "display_name": "Python 3",
   "language": "python",
   "name": "python3"
  },
  "language_info": {
   "codemirror_mode": {
    "name": "ipython",
    "version": 3
   },
   "file_extension": ".py",
   "mimetype": "text/x-python",
   "name": "python",
   "nbconvert_exporter": "python",
   "pygments_lexer": "ipython3",
   "version": "3.7.3"
  }
 },
 "nbformat": 4,
 "nbformat_minor": 4
}
