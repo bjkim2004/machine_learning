{
 "cells": [
  {
   "cell_type": "code",
   "execution_count": 27,
   "metadata": {},
   "outputs": [],
   "source": [
    "import numpy as np\n",
    "from statistics import variance, stdev"
   ]
  },
  {
   "cell_type": "code",
   "execution_count": 28,
   "metadata": {},
   "outputs": [],
   "source": [
    "np.random.seed(0)\n",
    "points = np.random.randint(0, 100, 20)"
   ]
  },
  {
   "cell_type": "code",
   "execution_count": 29,
   "metadata": {},
   "outputs": [
    {
     "name": "stdout",
     "output_type": "stream",
     "text": [
      "분산 : 662\n",
      "표준편차 : 25.73\n",
      "범위 : 79\n"
     ]
    }
   ],
   "source": [
    "var = variance(points); print('분산 :', var)\n",
    "std = stdev(points); print('표준편차 :', np.round(std, 2))\n",
    "range = np.max(data) - np.min(data); print('범위 :', range)"
   ]
  },
  {
   "cell_type": "code",
   "execution_count": 30,
   "metadata": {},
   "outputs": [
    {
     "name": "stdout",
     "output_type": "stream",
     "text": [
      "[사분위수]\n",
      "0% : 9.0\n",
      "25% : 42.75\n",
      "50% : 64.5\n",
      "75% : 84.0\n",
      "100% : 88.0\n",
      "IQR :  41.25\n"
     ]
    }
   ],
   "source": [
    "print('[사분위수]')\n",
    "for val in [0, 25, 50, 75, 100]:\n",
    "    quantile = np.percentile(points, val)\n",
    "    print('{}% : {}'.format(val, quantile))\n",
    "\n",
    "q1, q3 = np.percentile(data, [25, 75])\n",
    "print('IQR : ', q3 - q1)"
   ]
  },
  {
   "cell_type": "code",
   "execution_count": null,
   "metadata": {},
   "outputs": [],
   "source": []
  },
  {
   "cell_type": "code",
   "execution_count": null,
   "metadata": {},
   "outputs": [],
   "source": []
  }
 ],
 "metadata": {
  "kernelspec": {
   "display_name": "Python 3",
   "language": "python",
   "name": "python3"
  },
  "language_info": {
   "codemirror_mode": {
    "name": "ipython",
    "version": 3
   },
   "file_extension": ".py",
   "mimetype": "text/x-python",
   "name": "python",
   "nbconvert_exporter": "python",
   "pygments_lexer": "ipython3",
   "version": "3.7.3"
  }
 },
 "nbformat": 4,
 "nbformat_minor": 4
}
